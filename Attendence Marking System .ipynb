{
 "cells": [
  {
   "cell_type": "code",
   "execution_count": 1,
   "id": "a10d173e-e128-4105-8d9b-13ebf2b8439d",
   "metadata": {},
   "outputs": [],
   "source": [
    "#pip install --upgrade pip"
   ]
  },
  {
   "cell_type": "code",
   "execution_count": 2,
   "id": "ba3e1e2e-aea1-44af-913c-1a3a411cc882",
   "metadata": {},
   "outputs": [],
   "source": [
    "#pip install face_recognition"
   ]
  },
  {
   "cell_type": "code",
   "execution_count": 3,
   "id": "3d442172-9629-48ec-a55a-e13c195bd1bb",
   "metadata": {},
   "outputs": [],
   "source": [
    "import face_recognition\n",
    "import cv2 \n",
    "import numpy as np \n",
    "import csv \n",
    "import os \n",
    "from datetime import  datetime"
   ]
  },
  {
   "cell_type": "code",
   "execution_count": 4,
   "id": "42e638fe-0fa7-49cb-914b-74bffd3c17ec",
   "metadata": {},
   "outputs": [],
   "source": [
    "video_capture = cv2.VideoCapture(1) "
   ]
  },
  {
   "cell_type": "code",
   "execution_count": 5,
   "id": "2dfdada3-25c3-4938-929a-861e9b7ac256",
   "metadata": {},
   "outputs": [],
   "source": [
    "jobs_image= face_recognition.load_image_file(\"attendence images/steve jobs.jpg\")\n",
    "jobs_encoding= face_recognition.face_encodings(jobs_image)[0]"
   ]
  },
  {
   "cell_type": "code",
   "execution_count": 6,
   "id": "e8159537-e622-464c-aa31-a5393a0d34ed",
   "metadata": {},
   "outputs": [],
   "source": [
    "tata_image= face_recognition.load_image_file(\"attendence images/ratan tata.jpg\")\n",
    "tata_encoding= face_recognition.face_encodings(tata_image)[0]"
   ]
  },
  {
   "cell_type": "code",
   "execution_count": 7,
   "id": "e81e502d-7917-4a56-9401-1196a57b5170",
   "metadata": {},
   "outputs": [],
   "source": [
    "monalisa_image= face_recognition.load_image_file(\"attendence images/monalisa.jpg\")\n",
    "monalisa_encoding= face_recognition.face_encodings(monalisa_image)[0]"
   ]
  },
  {
   "cell_type": "code",
   "execution_count": 8,
   "id": "fc79ff17-5080-4dca-b986-2aecfb3b0240",
   "metadata": {},
   "outputs": [],
   "source": [
    "musk_image= face_recognition.load_image_file(\"attendence images/elon musk.jpg\")\n",
    "musk_encoding= face_recognition.face_encodings(musk_image)[0]"
   ]
  },
  {
   "cell_type": "code",
   "execution_count": 9,
   "id": "6820edad-00c7-4c76-89ad-a507e8c0c519",
   "metadata": {},
   "outputs": [],
   "source": [
    "virat_image= face_recognition.load_image_file(\"attendence images/virat kohli.jpg\")\n",
    "virat_encoding= face_recognition.face_encodings(virat_image)[0]"
   ]
  },
  {
   "cell_type": "code",
   "execution_count": 10,
   "id": "b7b37ffa-7baf-45f4-8880-815104c90e05",
   "metadata": {},
   "outputs": [],
   "source": [
    "known_face_encoding=[jobs_encoding , tata_encoding , monalisa_encoding , musk_encoding , virat_encoding]"
   ]
  },
  {
   "cell_type": "code",
   "execution_count": 11,
   "id": "c2846100-044b-4f75-9ead-bf3c785085b9",
   "metadata": {},
   "outputs": [],
   "source": [
    "known_face_names=['Steve Jobs', 'Ratan Tata', 'Monalisa' , 'Elon Musk' , 'Virat Kohli']"
   ]
  },
  {
   "cell_type": "code",
   "execution_count": 12,
   "id": "c37c2e7f-c846-427e-84f4-475df8da2f0a",
   "metadata": {},
   "outputs": [],
   "source": [
    "students = known_face_names.copy()"
   ]
  },
  {
   "cell_type": "code",
   "execution_count": 13,
   "id": "448c20e0-6dda-4d46-9d00-09aa703e0ea9",
   "metadata": {},
   "outputs": [],
   "source": [
    "face_locations=[] \n",
    "face_encodings=[] \n",
    "face_names=[] \n",
    "s=True"
   ]
  },
  {
   "cell_type": "code",
   "execution_count": 14,
   "id": "85fbff49-5d51-45c5-b511-e2635e3e9ce5",
   "metadata": {},
   "outputs": [],
   "source": [
    "now = datetime.now() \n",
    "current_date= now.strftime('%Y-%m-%d')"
   ]
  },
  {
   "cell_type": "code",
   "execution_count": 15,
   "id": "1bc904f3-5f94-40ca-b285-703881d1e19b",
   "metadata": {},
   "outputs": [],
   "source": [
    "f= open(current_date+'.csv','w+',newline='') \n",
    "lnwriter = csv.writer(f)"
   ]
  },
  {
   "cell_type": "code",
   "execution_count": 16,
   "id": "df495383-ee66-40cd-91ff-d2be7af34444",
   "metadata": {},
   "outputs": [
    {
     "name": "stdout",
     "output_type": "stream",
     "text": [
      "['Steve Jobs', 'Ratan Tata', 'Monalisa', 'Elon Musk']\n",
      "['Steve Jobs', 'Monalisa', 'Elon Musk']\n",
      "['Steve Jobs', 'Monalisa']\n",
      "['Monalisa']\n"
     ]
    }
   ],
   "source": [
    "while True: \n",
    "    _, frame = video_capture.read() \n",
    "    small_frame = cv2.resize(frame,(0,0),fx=0.25,fy=0.25)\n",
    "    rgb_small_frame = small_frame[:,:,::-1]\n",
    "    if s: \n",
    "        face_locations = face_recognition.face_locations(small_frame)\n",
    "        face_encodings = face_recognition.face_encodings(small_frame,face_locations)\n",
    "        face_names = [] \n",
    "        for face_encoding in face_encodings: \n",
    "            matches = face_recognition.compare_faces(known_face_encoding,face_encoding)\n",
    "            name = \"\"\n",
    "            face_distance= face_recognition.face_distance(known_face_encoding,face_encoding)\n",
    "            best_match_index = np.argmin(face_distance)\n",
    "            if matches[best_match_index]:\n",
    "                name = known_face_names[best_match_index]\n",
    "\n",
    "            face_names.append(name) \n",
    "            if name in known_face_names: \n",
    "                if name in students:\n",
    "                    students.remove(name)\n",
    "                    print(students) \n",
    "                    current_time=now.strftime('%H-%M-%S')\n",
    "                    lnwriter.writerow([name, current_time])\n",
    "\n",
    "    cv2.imshow('attendence system', frame) \n",
    "    if cv2.waitKey(30) & 0xFF == ord('q'):\n",
    "         break\n",
    "\n",
    "\n",
    "video_capture.release() \n",
    "cv2.destroyAllWindows() \n",
    "f.close() "
   ]
  },
  {
   "cell_type": "code",
   "execution_count": null,
   "id": "85440c1d-b838-4094-982f-b07b77ff11ee",
   "metadata": {},
   "outputs": [],
   "source": []
  },
  {
   "cell_type": "code",
   "execution_count": null,
   "id": "978ca657-a0e3-49be-9c14-41b6f49e074a",
   "metadata": {},
   "outputs": [],
   "source": []
  },
  {
   "cell_type": "code",
   "execution_count": null,
   "id": "bced4dc0-65c9-4e0d-b1ff-487606425c86",
   "metadata": {},
   "outputs": [],
   "source": []
  },
  {
   "cell_type": "code",
   "execution_count": null,
   "id": "4254e2ef-5123-4eb7-9e00-bc3598087631",
   "metadata": {},
   "outputs": [],
   "source": []
  },
  {
   "cell_type": "code",
   "execution_count": null,
   "id": "8b22e3e9-da8b-401a-96df-64b1f565c3e2",
   "metadata": {},
   "outputs": [],
   "source": []
  },
  {
   "cell_type": "code",
   "execution_count": null,
   "id": "b9d671f5-8cdf-470e-bdaa-3a4c53da36d6",
   "metadata": {},
   "outputs": [],
   "source": []
  }
 ],
 "metadata": {
  "kernelspec": {
   "display_name": "Python 3 (ipykernel)",
   "language": "python",
   "name": "python3"
  },
  "language_info": {
   "codemirror_mode": {
    "name": "ipython",
    "version": 3
   },
   "file_extension": ".py",
   "mimetype": "text/x-python",
   "name": "python",
   "nbconvert_exporter": "python",
   "pygments_lexer": "ipython3",
   "version": "3.11.7"
  }
 },
 "nbformat": 4,
 "nbformat_minor": 5
}
